{
 "cells": [
  {
   "cell_type": "markdown",
   "metadata": {},
   "source": [
    "**Course website**: http://www.leouieda.com/matematica-especial\n",
    "\n",
    "**Note**: This notebook is part of the course \"Matemática Especial I\" of the [Universidade do Estado do Rio de Janeiro](http://www.uerj.br/). All content can be freely used and adapted under the terms of the \n",
    "[Creative Commons Attribution 4.0 International License](http://creativecommons.org/licenses/by/4.0/).\n",
    "\n",
    "![Creative Commons License](https://i.creativecommons.org/l/by/4.0/88x31.png)"
   ]
  },
  {
   "cell_type": "markdown",
   "metadata": {},
   "source": [
    "# Integração Numérica"
   ]
  },
  {
   "cell_type": "markdown",
   "metadata": {},
   "source": [
    "## Imports\n",
    "\n",
    "Coloque **todos** os `import` na célula abaixo. Não se esqueça do `%matplotlib inline` para que os gráficos apareçam no notebook."
   ]
  },
  {
   "cell_type": "code",
   "execution_count": 6,
   "metadata": {
    "collapsed": true
   },
   "outputs": [],
   "source": [
    "# Dessa vez vamos precisar da biblioteca matemática \"math\"\n",
    "# Ela define funções como sin, cos, tan, exp e constantes como pi\n",
    "import math"
   ]
  },
  {
   "cell_type": "markdown",
   "metadata": {},
   "source": [
    "## Regra dos retângulos\n",
    "\n",
    "O jeito mais simples de integração numérica é a regra dos retângulos. Nela, aproximamos a integral pela soma das áreas de retângulos. Cada retângulo se encontra abaixo de um dos pontos dos dados. A largura do retângulo é o espaçamento entre os dados $\\Delta$. A altura do retângulo é o valor do dado naquela posição $d_i$.\n",
    "\n",
    "Se tivermos nossos dados em um vetor de dados $\\bar{d}$ (**nota**: vetores serão representados com uma barra em cima):\n",
    "\n",
    "$$\n",
    "\\bar{d} = \\left[ d_1 ~ d_2 ~ d_3 ~ \\ldots ~ d_N \\right],\n",
    "$$\n",
    "\n",
    "a integral poderá ser aproximada pela soma das áreas dos retângulos:\n",
    "\n",
    "$$\n",
    "A = \\sum\\limits_{i=1}^{N} \\Delta d_i\n",
    "$$"
   ]
  },
  {
   "cell_type": "markdown",
   "metadata": {},
   "source": [
    "### Algoritmo\n",
    "\n",
    "Utilize a célula vazia abaixo (tipo Markdown) para colocar uma descrição do algoritmo em português (não em código). Não se esqueça de relacionar os passos do algoritmo com as fórmulas matemáticas do método.\n",
    "\n",
    "**Dicas**:\n",
    "\n",
    "* Help sobre Markdown: https://help.github.com/articles/markdown-basics/\n",
    "* Como utilizar fórmulas matemáticas: https://www.sharelatex.com/learn/Mathematical_expressions\n"
   ]
  },
  {
   "cell_type": "markdown",
   "metadata": {},
   "source": [
    "$\\Delta$ = base (distancia entre o primeiro valor e o seguinte ate o n-esimo valor)\n",
    "\n",
    "$\\bar d$ = altura (distancia entre o primeiro vetor e o seguinte ate o n-esimo vetor)\n",
    "\n",
    "integral = zero\n",
    "\n",
    "Para cada valor em dados\n",
    "\n",
    "    integral recebe base * valor + integral"
   ]
  },
  {
   "cell_type": "markdown",
   "metadata": {},
   "source": [
    "### Dados para teste\n",
    "\n",
    "Vamos utilizar dados gerados a partir de uma função $d(t) = \\cos(t)$ para testar o método de integração. A vantagem do cosseno é que sabemos quanto deve ser a integral:\n",
    "\n",
    "$$\n",
    "\\int\\limits_a^b \\cos(t) dt = \\sin(b) - \\sin(a)\n",
    "$$\n",
    "\n",
    "O código abaixo gera duas listas: uma com os tempos variando entre os limites de integração; outra com os valores correspondentes do cosseno."
   ]
  },
  {
   "cell_type": "code",
   "execution_count": 41,
   "metadata": {
    "collapsed": false
   },
   "outputs": [
    {
     "name": "stdout",
     "output_type": "stream",
     "text": [
      "Espaçamento entre os dados: 0.0320570678937734\n",
      "[1.0, 0.9994862162006879, 0.9979453927503363, 0.9953791129491982, 0.9917900138232462, 0.9871817834144502, 0.9815591569910653, 0.9749279121818236, 0.9672948630390295, 0.9586678530366606, 0.9490557470106686, 0.9384684220497604, 0.9269167573460217, 0.9144126230158125, 0.9009688679024191, 0.8865993063730001, 0.8713187041233894, 0.8551427630053462, 0.8380881048918407, 0.820172254596956, 0.8014136218679567, 0.7818314824680298, 0.7614459583691344, 0.7402779970753156, 0.7183493500977276, 0.6956825506034865, 0.6723008902613169, 0.6482283953077885, 0.6234898018587336, 0.598110530491216, 0.5721166601221697, 0.5455349012105487, 0.5183925683105252, 0.4907175520039379, 0.4625382902408354, 0.4338837391175582, 0.404783343122394, 0.3752670048793742, 0.3453650544213078, 0.31510821802362077, 0.28452758663103267, 0.2536545839095075, 0.22252093395631445, 0.19115862870137248, 0.15959989503337932, 0.12787716168450622, 0.09602302590768189, 0.06407021998071318, 0.03205157757165533, 6.123233995736766e-17]\n"
     ]
    }
   ],
   "source": [
    "# inicio e fim são os intervalos de integração\n",
    "inicio = 0\n",
    "fim = math.pi/2 # Funções trigonométricas utilizam ângulos em radianos!\n",
    "N = 50\n",
    "# Precisamos saber o intervalo entre cada ponto dos dados\n",
    "# A divisão é por N - 1 pois existem N - 1 intervalos entre N pontos\n",
    "intervalo = (fim - inicio)/(N - 1)\n",
    "print(\"Espaçamento entre os dados:\", intervalo)\n",
    "tempos = []\n",
    "dados = []\n",
    "for i in range(N):\n",
    "    t = inicio + i*intervalo\n",
    "    tempos.append(t)\n",
    "    dados.append(math.cos(t))\n",
    "print(dados)\n",
    "#print(tempos)"
   ]
  },
  {
   "cell_type": "markdown",
   "metadata": {},
   "source": [
    "Utilize a célula abaixo para gerar um gráfico de `dados` por `tempos`."
   ]
  },
  {
   "cell_type": "code",
   "execution_count": 39,
   "metadata": {
    "collapsed": false
   },
   "outputs": [
    {
     "data": {
      "text/plain": [
       "<matplotlib.text.Text at 0x73636a0>"
      ]
     },
     "execution_count": 39,
     "metadata": {},
     "output_type": "execute_result"
    },
    {
     "data": {
      "image/png": "[encoded data removed]",
      "text/plain": [
       "<matplotlib.figure.Figure at 0x7384fd0>"
      ]
     },
     "metadata": {},
     "output_type": "display_data"
    }
   ],
   "source": [
    "# Importa a biblioteca do matplotlib\n",
    "import matplotlib.pyplot as plt \n",
    "%matplotlib inline\n",
    "# Abre o grafico em branco\n",
    "plt.figure()\n",
    "# Plota as variaveis tempos e dados no grafico\n",
    "plt.plot(tempos, dados, 'ok')\n",
    "# Poe rotulos nos eixos x e y\n",
    "plt.xlabel('Intervalos')\n",
    "plt.ylabel('Cosseno')"
   ]
  },
  {
   "cell_type": "markdown",
   "metadata": {},
   "source": [
    "### Implementação\n",
    "\n",
    "Implemente a regra dos retângulos para integrar os dados gerados acima. Coloque seu cógido na célula abaixo."
   ]
  },
  {
   "cell_type": "code",
   "execution_count": 9,
   "metadata": {
    "collapsed": false
   },
   "outputs": [
    {
     "name": "stdout",
     "output_type": "stream",
     "text": [
      "1.0159428945132496\n"
     ]
    }
   ],
   "source": [
    "# Zerado o valor da variavel \n",
    "integral_ret = 0\n",
    "# Foi feito um loop com os valores da lista dados\n",
    "for valor in dados:\n",
    "# Feito o somatorio de todos os valores e os mesmos foram guardados dentro da variavel integral\n",
    "    integral_ret = integral_ret + valor\n",
    "# Multiplica o somatorio pelo numero de intervalo de pontos\n",
    "integral_ret = integral_ret*intervalo\n",
    "# Escreve o valor final da integral\n",
    "print(integral_ret)"
   ]
  },
  {
   "cell_type": "markdown",
   "metadata": {},
   "source": [
    "Nas células abaixo calcule e imprima:\n",
    "\n",
    "1. A solução analítica (verdadeira) para a integral\n",
    "2. O erro cometido $E = \\left|res_{true} - res_{calc}\\right|$\n",
    "\n",
    "Dica: a função `abs` calcula o valor absoluto de um número."
   ]
  },
  {
   "cell_type": "code",
   "execution_count": 10,
   "metadata": {
    "collapsed": false
   },
   "outputs": [
    {
     "name": "stdout",
     "output_type": "stream",
     "text": [
      "Solução analítica: 1.0\n",
      "Erro cometido: 0.015942894513249595\n"
     ]
    }
   ],
   "source": [
    "# Criada a variavel x para estabelecer o valor da integral de cosseno analiticamente. \n",
    "# A integral de cosseno eh seno e varia no intervalo de 0 a pi/2\n",
    "x = math.sin(fim) - math.sin(inicio)\n",
    "# Foi calculado o modulo do erro \n",
    "erro_ret = abs(x - integral_ret)\n",
    "# Escreve o valor analitico da integral e o erro\n",
    "print(\"Solução analítica:\", x)\n",
    "print(\"Erro cometido:\", erro_ret)"
   ]
  },
  {
   "cell_type": "markdown",
   "metadata": {},
   "source": [
    "**Responda na célula abaixo:** Por que o erro não é zero e quais são os fatores que influenciam o erro?"
   ]
  },
  {
   "cell_type": "markdown",
   "metadata": {},
   "source": [
    "Porque estamos utilizando a regra dos retangulos, que ao serem construidos nos pontos possuem uma margem de erro devido a parte do retangulo que fica acima da curva tracada com os pontos. Esse erro ocorre devido a forma escolhida para representar a area da curva."
   ]
  },
  {
   "cell_type": "markdown",
   "metadata": {},
   "source": [
    "### Resultado esperado\n",
    "\n",
    "No caso acima estamos integrando o cosseno de 0 a $\\pi/2$, então o valor esperado da integral é 1. Seu resultado não será exatamente 1 mas deve estar entre 0.9 e 1.1."
   ]
  },
  {
   "cell_type": "markdown",
   "metadata": {},
   "source": [
    "## Regra dos trapézios\n",
    "\n",
    "A regra dos trapézios é parecida com a regra dos retângulos. Mas utilizaremos a área de um trapézio ao invés da área de um retângulo. O trapézio será definido com base em dois pontos adjacentes nos dados ($d_i$ e $d_{i+1}$, por exemplo).\n",
    "\n",
    "$$\n",
    "A = \\sum\\limits_{i=1}^{N - 1} \\Delta \\frac{d_i + d_{i+1}}{2}\n",
    "$$"
   ]
  },
  {
   "cell_type": "markdown",
   "metadata": {},
   "source": [
    "### Algoritmo\n",
    "\n",
    "Descreva abaixo o algoritmo utilizado (em português) para fazer a integração numérica utilizando a regra dos trapézios."
   ]
  },
  {
   "cell_type": "markdown",
   "metadata": {},
   "source": [
    "N = numero de pontos\n",
    "$\\Delta$ = altura \n",
    "\n",
    "$d_i$ = base menor \n",
    "\n",
    "$d_{i+1}$ = base maior \n",
    "\n",
    "integral = 0\n",
    "\n",
    "somatorio1 = 0 \n",
    "\n",
    "somatorio2 = 0\n",
    "\n",
    "Para cada indice nas posicoes de 0 a N-1\n",
    "somatorio1 recebe o somatorio1 + o valor do indice dentro da lista dados\n",
    "Para cada indice nas posicoes de 1 a N\n",
    "somatorio1 recebe o somatorio2 + o valor do indice dentro da lista dados\n",
    "\n",
    "integral recebe a soma dos somatorios 1 e 2\n",
    "integral recebe integral * intervalo\n",
    "integral recebe integral/2\n",
    "\n",
    "   "
   ]
  },
  {
   "cell_type": "markdown",
   "metadata": {},
   "source": [
    "### Implementação\n",
    "\n",
    "Vamos utilizar os mesmo dados utilizados na regra dos retângulos (na dúvida, rode novamente a célula que gera os dados). Abaixo, escreva e rode o código que faz a integração numérica com a regra dos trapézios. "
   ]
  },
  {
   "cell_type": "code",
   "execution_count": 11,
   "metadata": {
    "collapsed": false
   },
   "outputs": [
    {
     "name": "stdout",
     "output_type": "stream",
     "text": [
      "0.999914360566363\n"
     ]
    }
   ],
   "source": [
    "# Foi atribuido o valor zero as variaveis integral_trap, somatorio1 e somatorio2\n",
    "integral_trap = 0 \n",
    "somatorio1 = 0 \n",
    "somatorio2 = 0 \n",
    "# Para cada valor de indice dentro do intervalo 0 a N-1, foi feito um loop.\n",
    "for i in range(0, N-1):\n",
    "# Foi realizado o somatorio1 de acordo com os valores de indice dentro da lista dados.\n",
    "    somatorio1 = somatorio1 + dados[i]\n",
    "# Para cada valor de indice dentro do intervalo 1 a N, foi feito um loop.\n",
    "for i in range(1, N):\n",
    "# Foi realizado o somatorio2 de acordo com os valores de indice dentro da lista dados.\n",
    "    somatorio2 = somatorio2 + dados[i]\n",
    "# A intregral sera a soma dos dois somatorios, ou seja, base menor mais base maior.\n",
    "integral_trap = somatorio1 + somatorio2\n",
    "# Integral recebe o valor da integral vezes o intervalo dos pontos, a altura.\n",
    "integral_trap = integral_trap*intervalo\n",
    "# Integral recebe o valor da integral acima e divide por dois para calcular por fim a soma das areas.\n",
    "integral_trap = integral_trap/2\n",
    "# Escreve a integral que corresponde a soma final de áreas de trapezios abaixo da curva.\n",
    "print(integral_trap)"
   ]
  },
  {
   "cell_type": "markdown",
   "metadata": {},
   "source": [
    "Calcule e imprima também a solução analíca e o erro cometido."
   ]
  },
  {
   "cell_type": "code",
   "execution_count": 12,
   "metadata": {
    "collapsed": false
   },
   "outputs": [
    {
     "name": "stdout",
     "output_type": "stream",
     "text": [
      "Solução analítica: 1.0\n",
      "Erro cometido: 8.56394336370414e-05\n"
     ]
    }
   ],
   "source": [
    "# Criada a variavel x para estabelecer o valor da integral de cosseno analiticamente. \n",
    "# A integral de cosseno eh seno e varia no intervalo de 0 a pi/2\n",
    "y = math.sin(fim) - math.sin(inicio)\n",
    "# Foi calculado o modulo do erro \n",
    "erro_trap = abs(y - integral_trap)\n",
    "# Escreve o valor analitico da integral e o erro\n",
    "print(\"Solução analítica:\", y)\n",
    "print(\"Erro cometido:\", erro_trap)"
   ]
  },
  {
   "cell_type": "markdown",
   "metadata": {},
   "source": [
    "**Responda na célula abaixo:** O erro é maior ou menos que para a regra dos retângulos? Por que? Você esperava isso?"
   ]
  },
  {
   "cell_type": "markdown",
   "metadata": {},
   "source": [
    "O erro da regra dos trapézios é bem menor do que o da regra dos triangulos, isso por que a forma de trapezio atribuída a linha abaixo da curva formada pelos pontos, se encaixa melhor do que um retangulo, ou seja, não há partes da área do trapezio acima dessa curva, há somente pequenas áreas da curva onde não foi possível calcular o valor exato utilizando esse metodo. Isso já era esperado devido a forma de trapezio ser mais adequada e devido ao valor da integral ser menor que o calculado analiticamente."
   ]
  },
  {
   "cell_type": "markdown",
   "metadata": {},
   "source": [
    "### Resultado esperado\n",
    "\n",
    "Novamente, o valos esperado é 1 mas seu resultado não será exatamente 1 (mas deve estar entre 0.9 e 1.1)."
   ]
  },
  {
   "cell_type": "markdown",
   "metadata": {},
   "source": [
    "## Comparação dos dois métodos\n",
    "\n",
    "Vamos comparar o erro de ambos métodos. Uma comparação muito utilizada em métodos numéricos em geral é como o erro varia com o número de dados (ou pontos) utilizados.\n",
    "\n",
    "Nas células abaixo, calcule o erro da integração numérica para diferentes valores de `N`. Os valores de N deverão variar de 10 a 1000 de 10 em 10. Mantenha os intervalos de integração entre $0$ e $\\pi/2$. Faça esse cálculo para os dois métodos: retângulos e trapézios.\n",
    "\n",
    "Ao final, faça um gráfico do erro pelos valores de `N`. O gráfico deverá ter duas curvas, uma para cada método. O eixo y (erros) deverá estar em escala logarítmica.\n",
    "\n",
    "**Dicas**: \n",
    "\n",
    "* Gere uma lista dos valores de `N`.\n",
    "* Para colocar o eixo y em escala log: `plt.yscale('log')`"
   ]
  },
  {
   "cell_type": "code",
   "execution_count": 88,
   "metadata": {
    "collapsed": false
   },
   "outputs": [],
   "source": [
    "import math\n",
    "import matplotlib.pyplot as plt \n",
    "%matplotlib inline\n",
    "\n",
    "# Zera as listas criadas\n",
    "periodo = []\n",
    "lista_ret = []\n",
    "lista_trap = []\n",
    "erro_ret = []\n",
    "erro_trap = []\n",
    "intervalos =[]\n",
    "inicio = 0\n",
    "fim = math.pi/2 \n",
    "# Faz um loop para todos os valores de 10 a 1000 de 10 em 10\n",
    "for m in range(10, 1010, 10):\n",
    "# Indica o intervalo\n",
    "    espaco = (fim - inicio)/(m - 1)\n",
    "# Adiciona a lista periodo os valores do intervalo\n",
    "    periodo.append(espaco)\n",
    "# Zeram as listas dados1 e tempos1\n",
    "    dados1 = []\n",
    "    tempos1 = []\n",
    "# Coloca na lista intervalos os valores de m variando de acordo com o loop anterior\n",
    "    intervalos.append(m)\n",
    "# Faz um loop com os valores dentro do intervalo de m\n",
    "    for i in range(m):\n",
    "        t = inicio + i*espaco\n",
    "        tempos1.append(t)\n",
    "        dados1.append(math.cos(t))\n",
    "\n",
    "# Para regra dos retangulos\n",
    "    integral_ret = 0\n",
    "    for valor in dados1:\n",
    "# Feito o somatorio de todos os valores e os mesmos foram guardados dentro da variavel integral\n",
    "        integral_ret = integral_ret + valor\n",
    "# Multiplica o somatorio pelo numero de intervalo de pontos\n",
    "    integral_ret = integral_ret*espaco\n",
    "# Coloca na lista todas as integrais pela regra do retangulo para todos os valores de m\n",
    "    lista_ret.append(integral_ret)\n",
    "\n",
    "# Erro do retangulo\n",
    "# Criada a variavel x para estabelecer o valor da integral de cosseno analiticamente. \n",
    "# A integral de cosseno eh seno e varia no intervalo de 0 a pi/2\n",
    "    x = math.sin(fim) - math.sin(inicio)\n",
    "# Foi calculado o modulo do erro \n",
    "    erro1 = abs(x - integral_ret)\n",
    "    erro_ret.append(erro1)\n",
    "#print(erro_ret)\n",
    "\n",
    "# Foi atribuido o valor zero as variaveis integral_trap, somatorio1 e somatorio2\n",
    "    integral_trap = 0 \n",
    "    somatorio1 = 0 \n",
    "    somatorio2 = 0 \n",
    "# Para cada valor de indice dentro do intervalo 0 a m-1, foi feito um loop.\n",
    "    for i in range(0, m-1):\n",
    "# Foi realizado o somatorio1 de acordo com os valores de indice dentro da lista dados1.\n",
    "        somatorio1 = somatorio1 + dados1[i]\n",
    "# Para cada valor de indice dentro do intervalo 1 a m, foi feito um loop.\n",
    "    for i in range(1, m):\n",
    "# Foi realizado o somatorio2 de acordo com os valores de indice dentro da lista dados1.\n",
    "        somatorio2 = somatorio2 + dados1[i]\n",
    "# A intregral sera a soma dos dois somatorios, ou seja, base menor mais base maior.\n",
    "    integral_trap = somatorio1 + somatorio2\n",
    "# Integral recebe o valor da integral vezes o intervalo dos pontos, a altura.\n",
    "    integral_trap = integral_trap*espaco\n",
    "# Integral recebe o valor da integral acima e divide por dois para calcular por fim a soma das areas.\n",
    "    integral_trap = integral_trap/2\n",
    "# Escreve a integral que corresponde a soma final de áreas de trapezios abaixo da curva.\n",
    "    #print(integral_trap)\n",
    "# Criada a variavel x para estabelecer o valor da integral de cosseno analiticamente. \n",
    "# A integral de cosseno eh seno e varia no intervalo de 0 a pi/2\n",
    "    y = math.sin(fim) - math.sin(inicio)\n",
    "# Foi calculado o modulo do erro \n",
    "    erro2 = abs(y - integral_trap)\n",
    "    erro_trap.append(erro2)\n",
    "# Escreve o valor analitico da integral e o erro\n",
    "    #print(\"Erro cometido:\", erro_trap)\n",
    "#print(intervalos)"
   ]
  },
  {
   "cell_type": "code",
   "execution_count": 89,
   "metadata": {
    "collapsed": false
   },
   "outputs": [
    {
     "data": {
      "image/png": "[encoded data removed]",
      "text/plain": [
       "<matplotlib.figure.Figure at 0x8ea0e80>"
      ]
     },
     "metadata": {},
     "output_type": "display_data"
    }
   ],
   "source": [
    "# Cria um grafico \n",
    "plt.figure()\n",
    "# Coloca titulo\n",
    "plt.title(\"Erro de integração numérica\")\n",
    "# Plota os intervalos e o erro em azul com rotulo retangulos\n",
    "plt.plot(intervalos, erro_ret, '-b', label= 'Retângulos')\n",
    "# Plota os intervalos e o erro em vermelho com rotulo trapezios\n",
    "plt.plot(intervalos, erro_trap, '-r', label= 'Trapézios')\n",
    "# Nomeia os eixos x e y\n",
    "plt.xlabel('Número de dados')\n",
    "plt.ylabel('Erro')\n",
    "# Coloca o eixo y na escala logaritimica\n",
    "plt.yscale('log')\n",
    "# Poe legenda no grafico\n",
    "legend = plt.legend(loc='upper right', shadow=True, fontsize='large')"
   ]
  },
  {
   "cell_type": "markdown",
   "metadata": {},
   "source": [
    "**Responda na célula abaixo**: Como o erro varia com `N` para os dois métodos? Aumentar o número de dados de 50 para 200 nos dá a mesma diminuição no erro que aumentar de 650 para 800? Sempre vale a pena utilizar mais dados (lembre-se que a escala é logarítmica)? "
   ]
  },
  {
   "cell_type": "markdown",
   "metadata": {},
   "source": [
    "Quanto maior o número de dados, menor é o erro para os dois métodos. Não, pois como é uma escala logarítmica a diferença de erros é menor quanto maior o número de dados, por isso vale a pena utilizar mais dados."
   ]
  },
  {
   "cell_type": "markdown",
   "metadata": {},
   "source": [
    "### Resultado esperado\n",
    "\n",
    "O gráfico ao final deverá ser parecido com:\n",
    "\n",
    "![images/erro-por-ndados.png](images/erro-por-ndados.png)"
   ]
  },
  {
   "cell_type": "markdown",
   "metadata": {},
   "source": [
    "## Tarefa bônus: Probabilidades\n",
    "\n",
    "Vamos assumir que uma variável aleatória $x$ segue uma [distribuição normal](https://en.wikipedia.org/wiki/Normal_distribution) com média zero e desvio padrão $\\sigma$. Isso quer dizer que a [densidade de probabilidade](https://en.wikipedia.org/wiki/Probability_density_function) para $x$ é\n",
    "\n",
    "$$\n",
    "f(x) = \\frac{1}{\\sigma\\sqrt{2\\pi}} \\exp \\left( -\\frac{x^2}{2 \\sigma^2} \\right)\n",
    "$$\n",
    "\n",
    "A probabilidade de $x$ cair no intervalo $[a, b]$ é dada por ([refência](https://en.wikipedia.org/wiki/Probability_distribution#Continuous_probability_distribution)):\n",
    "\n",
    "$$\n",
    "P(a \\leq x \\leq b) = \\int\\limits_a^b f(x) dx\n",
    "$$\n",
    "\n",
    "Calcule na célula abaixo qual é a probabilidade de $x$ estar entre $[-\\sigma, +\\sigma]$ para $\\sigma = 5$."
   ]
  },
  {
   "cell_type": "code",
   "execution_count": null,
   "metadata": {
    "collapsed": true
   },
   "outputs": [],
   "source": []
  }
 ],
 "metadata": {
  "kernelspec": {
   "display_name": "Python 3",
   "language": "python",
   "name": "python3"
  },
  "language_info": {
   "codemirror_mode": {
    "name": "ipython",
    "version": 3
   },
   "file_extension": ".py",
   "mimetype": "text/x-python",
   "name": "python",
   "nbconvert_exporter": "python",
   "pygments_lexer": "ipython3",
   "version": "3.4.3"
  }
 },
 "nbformat": 4,
 "nbformat_minor": 0
}
